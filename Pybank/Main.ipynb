{
 "cells": [
  {
   "cell_type": "code",
   "execution_count": 56,
   "id": "1acf46ff",
   "metadata": {},
   "outputs": [],
   "source": [
    "from pathlib import Path\n",
    "import csv\n",
    "csvpath = Path(\"../Pybank/Homework_02-Python_Instructions_PyBank_Resources_budget_data.csv\")\n",
    "profit_loss = 0\n",
    "profit = []\n",
    "profit_difference = []\n",
    "line_num = 0\n",
    "date = []\n"
   ]
  },
  {
   "cell_type": "code",
   "execution_count": 59,
   "id": "f370de33",
   "metadata": {},
   "outputs": [
    {
     "name": "stdout",
     "output_type": "stream",
     "text": [
      "['Jan-2010', '867884']\n",
      "['Feb-2010', '984655']\n",
      "['Mar-2010', '322013']\n",
      "['Apr-2010', '-69417']\n",
      "['May-2010', '310503']\n",
      "['Jun-2010', '522857']\n",
      "['Jul-2010', '1033096']\n",
      "['Aug-2010', '604885']\n",
      "['Sep-2010', '-216386']\n",
      "['Oct-2010', '477532']\n",
      "['Nov-2010', '893810']\n",
      "['Dec-2010', '-80353']\n",
      "['Jan-2011', '779806']\n",
      "['Feb-2011', '-335203']\n",
      "['Mar-2011', '697845']\n",
      "['Apr-2011', '793163']\n",
      "['May-2011', '485070']\n",
      "['Jun-2011', '584122']\n",
      "['Jul-2011', '62729']\n",
      "['Aug-2011', '668179']\n",
      "['Sep-2011', '899906']\n",
      "['Oct-2011', '834719']\n",
      "['Nov-2011', '132003']\n",
      "['Dec-2011', '309978']\n",
      "['Jan-2012', '-755566']\n",
      "['Feb-2012', '1170593']\n",
      "['Mar-2012', '252788']\n",
      "['Apr-2012', '1151518']\n",
      "['May-2012', '817256']\n",
      "['Jun-2012', '570757']\n",
      "['Jul-2012', '506702']\n",
      "['Aug-2012', '-1022534']\n",
      "['Sep-2012', '475062']\n",
      "['Oct-2012', '779976']\n",
      "['Nov-2012', '144175']\n",
      "['Dec-2012', '542494']\n",
      "['Jan-2013', '359333']\n",
      "['Feb-2013', '321469']\n",
      "['Mar-2013', '67780']\n",
      "['Apr-2013', '471435']\n",
      "['May-2013', '565603']\n",
      "['Jun-2013', '872480']\n",
      "['Jul-2013', '789480']\n",
      "['Aug-2013', '999942']\n",
      "['Sep-2013', '-1196225']\n",
      "['Oct-2013', '268997']\n",
      "['Nov-2013', '-687986']\n",
      "['Dec-2013', '1150461']\n",
      "['Jan-2014', '682458']\n",
      "['Feb-2014', '617856']\n",
      "['Mar-2014', '824098']\n",
      "['Apr-2014', '581943']\n",
      "['May-2014', '132864']\n",
      "['Jun-2014', '448062']\n",
      "['Jul-2014', '689161']\n",
      "['Aug-2014', '800701']\n",
      "['Sep-2014', '1166643']\n",
      "['Oct-2014', '947333']\n",
      "['Nov-2014', '578668']\n",
      "['Dec-2014', '988505']\n",
      "['Jan-2015', '1139715']\n",
      "['Feb-2015', '1029471']\n",
      "['Mar-2015', '687533']\n",
      "['Apr-2015', '-524626']\n",
      "['May-2015', '158620']\n",
      "['Jun-2015', '87795']\n",
      "['Jul-2015', '423389']\n",
      "['Aug-2015', '840723']\n",
      "['Sep-2015', '568529']\n",
      "['Oct-2015', '332067']\n",
      "['Nov-2015', '989499']\n",
      "['Dec-2015', '778237']\n",
      "['Jan-2016', '650000']\n",
      "['Feb-2016', '-1100387']\n",
      "['Mar-2016', '-174946']\n",
      "['Apr-2016', '757143']\n",
      "['May-2016', '445709']\n",
      "['Jun-2016', '712961']\n",
      "['Jul-2016', '-1163797']\n",
      "['Aug-2016', '569899']\n",
      "['Sep-2016', '768450']\n",
      "['Oct-2016', '102685']\n",
      "['Nov-2016', '795914']\n",
      "['Dec-2016', '60988']\n",
      "['Jan-2017', '138230']\n",
      "['Feb-2017', '671099']\n"
     ]
    }
   ],
   "source": [
    "with open(csvpath, \"r\") as csvfile:\n",
    "    csvreader = csv.reader(csvfile, delimiter=\",\")\n",
    "    header = next(csvreader)\n",
    "    for row in csvreader:\n",
    "        print(row)\n",
    "        line_num += int(row[1])"
   ]
  },
  {
   "cell_type": "code",
   "execution_count": 76,
   "id": "228c0fd6",
   "metadata": {},
   "outputs": [
    {
     "name": "stdout",
     "output_type": "stream",
     "text": [
      "86\n"
     ]
    }
   ],
   "source": [
    "with open(csvpath, \"r\") as csvfile:\n",
    "    csvreader = csv.reader(csvfile, delimiter=\",\")\n",
    "    header = next(csvreader)\n",
    "    count = 0\n",
    "    total = int(row[1])\n",
    "    for row in csvreader:\n",
    "        count += 1\n",
    "    print(count)"
   ]
  },
  {
   "cell_type": "code",
   "execution_count": 75,
   "id": "215bc06e",
   "metadata": {},
   "outputs": [
    {
     "name": "stdout",
     "output_type": "stream",
     "text": [
      "38382578\n"
     ]
    }
   ],
   "source": [
    "\n",
    "with open(csvpath, \"r\") as csvfile:\n",
    "    csvreader = csv.reader(csvfile, delimiter=\",\")\n",
    "    header = next(csvreader)\n",
    "    total = 0\n",
    "    for row in csvreader:\n",
    "        total += int(row[1])\n",
    "    print(total)\n",
    "    "
   ]
  },
  {
   "cell_type": "code",
   "execution_count": 95,
   "id": "72b9a55a",
   "metadata": {},
   "outputs": [
    {
     "name": "stdout",
     "output_type": "stream",
     "text": [
      "-2315.1176470588234\n",
      "1926159\n",
      "Jan-2012\n",
      "-2196167\n",
      "Aug-2013\n"
     ]
    }
   ],
   "source": [
    "profit_loss = 0\n",
    "profit = []\n",
    "profit_difference = []\n",
    "line_num = 0\n",
    "date = []\n",
    "with open(csvpath, \"r\") as csvfile:\n",
    "    csvreader = csv.reader(csvfile, delimiter=\",\")\n",
    "    header = next(csvreader)\n",
    "    for row in csvreader:\n",
    "        profit.append(int(row[1]))\n",
    "        date.append(row[0])\n",
    "    for i in range(1, len(profit)):\n",
    "        profit_difference.append(profit[i] - profit[i-1])\n",
    "        avg_profit_change = sum(profit_difference)/len(profit_difference)\n",
    "        max_profit_change = max(profit_difference)\n",
    "        min_profit_change = min(profit_difference)\n",
    "        max_profit_date_change = str(date[profit_difference.index(max(profit_difference))])\n",
    "        min_profit_date_change = str(date[profit_difference.index(min(profit_difference))])\n",
    "    print(avg_profit_change)\n",
    "    print(max_profit_change)\n",
    "    print(max_profit_date_change)\n",
    "    print(min_profit_change)\n",
    "    print(min_profit_date_change)"
   ]
  },
  {
   "cell_type": "code",
   "execution_count": 96,
   "id": "adb00c54",
   "metadata": {},
   "outputs": [
    {
     "name": "stdout",
     "output_type": "stream",
     "text": [
      "Total Months: 86\n"
     ]
    }
   ],
   "source": [
    "print(f\"Total Months: {count}\")"
   ]
  },
  {
   "cell_type": "code",
   "execution_count": 108,
   "id": "5fbabea4",
   "metadata": {},
   "outputs": [
    {
     "name": "stdout",
     "output_type": "stream",
     "text": [
      "Total Months: 86\n",
      "Total Profit/Loss: 671099\n",
      "Average Profit Change: -2315.12\n",
      "Largest Increase in Profit Change: Jan-2012 $1926159\n",
      "Largest Decrease in Profit Change: Aug-2013 $-2196167\n"
     ]
    }
   ],
   "source": [
    "print(f\"Total Months: {count}\")\n",
    "print(f\"Total Profit/Loss: {total}\")\n",
    "print(f\"Average Profit Change: {avg_profit_change:.2f}\")\n",
    "print(f\"Largest Increase in Profit Change: {max_profit_date_change} ${max_profit_change}\")\n",
    "print(f\"Largest Decrease in Profit Change: {min_profit_date_change} ${min_profit_change}\")"
   ]
  },
  {
   "cell_type": "code",
   "execution_count": 110,
   "id": "83bb5ede",
   "metadata": {},
   "outputs": [],
   "source": [
    "with open(\"Output.txt\", \"w\") as text_file:\n",
    "    print(\"Financial Analysis\", file=text_file)\n",
    "    print(\"-----------------\", file=text_file)\n",
    "    print(f\"Total Months: {count}\", file=text_file)\n",
    "    print(f\"Total Profit/Loss: {total}\", file=text_file)\n",
    "    print(f\"Average Profit Change: {avg_profit_change:.2f}\", file=text_file)\n",
    "    print(f\"Largest Increase in Profit Change: {max_profit_date_change} ${max_profit_change}\", file=text_file)\n",
    "    print(f\"Largest Decrease in Profit Change: {min_profit_date_change} ${min_profit_change}\", file=text_file)"
   ]
  },
  {
   "cell_type": "code",
   "execution_count": null,
   "id": "12fd7490",
   "metadata": {},
   "outputs": [],
   "source": []
  }
 ],
 "metadata": {
  "kernelspec": {
   "display_name": "Python 3",
   "language": "python",
   "name": "python3"
  },
  "language_info": {
   "codemirror_mode": {
    "name": "ipython",
    "version": 3
   },
   "file_extension": ".py",
   "mimetype": "text/x-python",
   "name": "python",
   "nbconvert_exporter": "python",
   "pygments_lexer": "ipython3",
   "version": "3.8.5"
  }
 },
 "nbformat": 4,
 "nbformat_minor": 5
}
